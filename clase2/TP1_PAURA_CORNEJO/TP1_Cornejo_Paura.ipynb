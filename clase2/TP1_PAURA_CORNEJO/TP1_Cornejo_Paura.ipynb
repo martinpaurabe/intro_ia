{
 "cells": [
  {
   "attachments": {},
   "cell_type": "markdown",
   "id": "9dc3793379ee6eb9",
   "metadata": {
    "collapsed": false,
    "jupyter": {
     "outputs_hidden": false
    }
   },
   "source": [
    "Trabajo Practico Nº 1 Inteligencia Artificial\n",
    "\n",
    "Alumnos: Alan Cornejo y Martin Paura"
   ]
  },
  {
   "cell_type": "markdown",
   "id": "86604230",
   "metadata": {},
   "source": [
    "1. ¿Cuáles son los PEAS de este problema? (Performance, Environment, Actuators, Sensors)\n",
    "\n",
    "La Performance la medimos a partir de que llegue a la solución, reduciendo el tiempo de procesamiento y la  cantidad de memoria utilizada.\n",
    "El Enviroment es el Juego de la torre de Hanoi en un parque de diversiones (donde la gente como desafío puede programar la funcion heuristica para maximizar la Performance)\n",
    "El actuador, pensamos en un drone con sopapas para agarrar los discos y camaras de video para asistir al posicionamiento.\n",
    "El sensado, unas camaras laterales que le indiquen al sistema que discos se encuentran en cada torre\n"
   ]
  },
  {
   "cell_type": "markdown",
   "id": "c9e29949",
   "metadata": {},
   "source": [
    "2. ¿Cuáles son las propiedades del entorno de trabajo?\n",
    "El entorno de Trabajo es:\n",
    "Totalmente observable\n",
    "Episódico\n",
    "discreto\n",
    "Dinàmico\n",
    "Con Agente Individual\n"
   ]
  },
  {
   "cell_type": "markdown",
   "id": "8425fab2",
   "metadata": {},
   "source": [
    "3. En el contexto de este problema, establezca cuáles son los: estado, espacio de estados, árbol de búsqueda, \n",
    "nodo de búsqueda, objetivo, acción y frontera.\n",
    "\n",
    "Estado: son las distintas convinaciones en las que se pueden encontrar los discos en las tres torres, considerando el tamaño de los discos (no puede haber una grande arriba de una pequeña)\n",
    "Espacio de Estado: es el conjunto de los distintos estados estados.\n",
    "Nodo de búsqueda: Es un punto del arbol que contiene la información de un estado, un padre y los hijos que amplían la frontera y profundidad, siendo el nodo raiz el que no tiene padres y contiene la información del estado inicial.\n",
    "Arbol de búsqueda: Es el entramado que se genera entre los distintos nodos y su interacción generada por las acciónes.\n",
    "Acción: Mover un disco de una torre a otra considerando que no puedo poner una grande arriba de una mas pequeña. Modificando el estado y generando la interación entre los nodos padres e hijos.\n",
    "Frontera: es la conformación generada en determinado momento, por aquellos nodos que no tengo conocimiento de sus nodos hijos.\n",
    "Objetivo: Es el estado al que quiero llegar, es decir, el posicionamiento final deseado de los discos en las tres torres.\n",
    "\n"
   ]
  },
  {
   "cell_type": "markdown",
   "id": "1ef375ac",
   "metadata": {},
   "source": [
    "4. Implemente algún método de búsqueda. Puedes elegir cualquiera menos búsqueda en anchura primero (el desarrollado \n",
    "en clase). Sos libre de elegir cualquiera de los vistos en clases, o inclusive buscar nuevos.\n",
    "\n",
    "Para el Trabajo Practico seleccionamos el algoritmo A*, pero teniendo en cuenta que los todos los movimientos permitidos tienen el mismo costo solo se considera en la prioridad de la cola la funciòn heurìstica."
   ]
  },
  {
   "cell_type": "code",
   "execution_count": 133,
   "id": "f79a5290-079a-4344-99d7-d69e747f6347",
   "metadata": {},
   "outputs": [],
   "source": [
    "from aima_libs.hanoi_states import ProblemHanoi, StatesHanoi\n",
    "from aima_libs.tree_hanoi import NodeHanoi\n",
    "from aima_libs.aima import PriorityQueue as AimaPriorityQueue"
   ]
  },
  {
   "cell_type": "code",
   "execution_count": 134,
   "id": "98aa50b3",
   "metadata": {},
   "outputs": [],
   "source": [
    "def heursitic(x: NodeHanoi):    #defino mi función heuristica\n",
    "    result = 0\n",
    "    Cant_Disc = len(x.state.rods[0]) +  len(x.state.rods[1]) +  len(x.state.rods[2])\n",
    "    for i in range(len(x.state.rods[2])):  #Si los discos ya se encuentran en su posiciòn final los trato de dejar ahi\n",
    "        if x.state.rods[2][i] ==  Cant_Disc - i:\n",
    "            result -= 1**Cant_Disc\n",
    "        # else:\n",
    "        #     i = Cant_Disc  #en cuanto no sea el que corresponde me voy\n",
    "    aux_rod = 1        \n",
    "    for j in range(Cant_Disc-1,0,-1):      #Premio a que se coloquen los discos en las varillas alternadamente para poder sacar el disco mas grande y llevarlo a la varilla 2\n",
    "        for i in range(len(x.state.rods[aux_rod])):\n",
    "            if x.state.rods[aux_rod][i] ==  j - i:\n",
    "                result -= 1**j\n",
    "            # else:\n",
    "            #     i = Cant_Disc  #en cuanto no sea el que corresponde me voy\n",
    "        if(aux_rod == 1):\n",
    "            aux_rod = 0\n",
    "        else:\n",
    "            aux_rod = 1\n",
    "    result += (len(x.state.rods[0]) +  len(x.state.rods[1]))/5.0\n",
    "    return result"
   ]
  },
  {
   "cell_type": "code",
   "execution_count": 135,
   "id": "cb2a9a67-c487-4665-8487-a5b321c5ec2a",
   "metadata": {},
   "outputs": [],
   "source": [
    "def A_search(number_disks=5):\n",
    "    # Inicializamos el problema\n",
    "    list_disks = [i for i in range(number_disks, 0, -1)]\n",
    "    initial_state = StatesHanoi(list_disks, [], [], max_disks=number_disks,cost=1)\n",
    "    goal_state = StatesHanoi([], [], list_disks, max_disks=number_disks,cost=1)\n",
    "    problem = ProblemHanoi(initial=initial_state, goal=goal_state)\n",
    "\n",
    "    # Creamos una cola FIFO con el nodo inicial\n",
    "    frontier =  AimaPriorityQueue(order='min', f=heursitic)\n",
    "\n",
    "    frontier.append(NodeHanoi(problem.initial))\n",
    "    \n",
    "    # Creamos el set con estados ya visitados\n",
    "    explored = set()\n",
    "    \n",
    "    node_explored = 0\n",
    "    \n",
    "    while len(frontier) != 0:\n",
    "        struct_node = frontier.pop()\n",
    "        node_explored += 1\n",
    "        \n",
    "        # Agregamos el estado del nodo al set. Esto evita guardar duplicados, porque set nunca tiene elementos repetidos\n",
    "        explored.add(struct_node[1].state)\n",
    "        \n",
    "        if problem.goal_test(struct_node[1].state):  # Comprobamos si hemos alcanzado el estado objetivo\n",
    "            metrics = {\n",
    "                \"solution_found\": True,\n",
    "                \"nodes_explored\": node_explored,\n",
    "                \"states_visited\": len(explored),\n",
    "                \"nodes_in_frontier\": len(frontier),\n",
    "                \"max_depth\": struct_node[1].depth,\n",
    "                \"cost_total\": struct_node[1].state.accumulated_cost,\n",
    "            }\n",
    "            return struct_node[1], metrics\n",
    "        \n",
    "        # Agregamos a la cola todos los nodos sucesores del nodo actual\n",
    "        for next_node in struct_node[1].expand(problem):\n",
    "            # Solo si el estado del nodo no fue explorado\n",
    "            if next_node.state not in explored:               \n",
    "                frontier.append(next_node)  # Corregido\n",
    "\n",
    "    # Si no se encontro la solución, devolvemos la métricas igual\n",
    "    metrics = {\n",
    "        \"solution_found\": False,\n",
    "        \"nodes_explored\": node_explored,\n",
    "        \"states_visited\": len(explored),\n",
    "        \"nodes_in_frontier\": len(frontier),\n",
    "        \"max_depth\": struct_node.depth, # OBS: Si no se encontró la solución, este valor solo tiene sentido en breadth_first_search, en otros casos se debe ir llevando registro de cual fue la máxima profundidad\n",
    "        \"cost_total\": None,\n",
    "    }\n",
    "    return None, metrics\n"
   ]
  },
  {
   "cell_type": "markdown",
   "id": "4ad1a431",
   "metadata": {},
   "source": [
    "5. ¿Qué complejidad en tiempo y memoria teórica tiene el algoritmo elegido?\n",
    "\n",
    "Nosotros seleccionamos el algoritmo A*, en el peor de los casos la complejidad del algoritmo en memoria crece en forma exponencial dependiendo de la funcion heurìstica.\n"
   ]
  },
  {
   "cell_type": "code",
   "execution_count": 143,
   "id": "492a96c7",
   "metadata": {},
   "outputs": [
    {
     "name": "stdout",
     "output_type": "stream",
     "text": [
      "======1=====\n",
      "solution_found: True\n",
      "nodes_explored: 1\n",
      "states_visited: 1\n",
      "nodes_in_frontier: 0\n",
      "max_depth: 0\n",
      "cost_total: 1\n",
      "Usage memorie peak: 0.0 [MB]\n",
      "Execution Time: 0.0\n",
      "======2=====\n",
      "solution_found: True\n",
      "nodes_explored: 2\n",
      "states_visited: 2\n",
      "nodes_in_frontier: 1\n",
      "max_depth: 1\n",
      "cost_total: 2.0\n",
      "Usage memorie peak: 0.01 [MB]\n",
      "Execution Time: 0.0010006427764892578\n",
      "======3=====\n",
      "solution_found: True\n",
      "nodes_explored: 4\n",
      "states_visited: 4\n",
      "nodes_in_frontier: 3\n",
      "max_depth: 3\n",
      "cost_total: 4.0\n",
      "Usage memorie peak: 0.01 [MB]\n",
      "Execution Time: 0.0009996891021728516\n",
      "======4=====\n",
      "solution_found: True\n",
      "nodes_explored: 8\n",
      "states_visited: 8\n",
      "nodes_in_frontier: 7\n",
      "max_depth: 7\n",
      "cost_total: 8.0\n",
      "Usage memorie peak: 0.02 [MB]\n",
      "Execution Time: 0.0029973983764648438\n",
      "======5=====\n",
      "solution_found: True\n",
      "nodes_explored: 16\n",
      "states_visited: 16\n",
      "nodes_in_frontier: 15\n",
      "max_depth: 15\n",
      "cost_total: 16.0\n",
      "Usage memorie peak: 0.03 [MB]\n",
      "Execution Time: 0.008996963500976562\n",
      "======6=====\n",
      "solution_found: True\n",
      "nodes_explored: 38\n",
      "states_visited: 35\n",
      "nodes_in_frontier: 31\n",
      "max_depth: 31\n",
      "cost_total: 32.0\n",
      "Usage memorie peak: 0.07 [MB]\n",
      "Execution Time: 0.01609015464782715\n",
      "======7=====\n",
      "solution_found: True\n",
      "nodes_explored: 115\n",
      "states_visited: 86\n",
      "nodes_in_frontier: 56\n",
      "max_depth: 63\n",
      "cost_total: 64.0\n",
      "Usage memorie peak: 0.45 [MB]\n",
      "Execution Time: 0.05456876754760742\n",
      "======8=====\n",
      "solution_found: True\n",
      "nodes_explored: 389\n",
      "states_visited: 234\n",
      "nodes_in_frontier: 95\n",
      "max_depth: 127\n",
      "cost_total: 128.0\n",
      "Usage memorie peak: 0.54 [MB]\n",
      "Execution Time: 0.17279481887817383\n",
      "======9=====\n",
      "solution_found: True\n",
      "nodes_explored: 1266\n",
      "states_visited: 668\n",
      "nodes_in_frontier: 154\n",
      "max_depth: 255\n",
      "cost_total: 256.0\n",
      "Usage memorie peak: 1.1 [MB]\n",
      "Execution Time: 0.49103307723999023\n",
      "======10=====\n",
      "solution_found: True\n",
      "nodes_explored: 3904\n",
      "states_visited: 1930\n",
      "nodes_in_frontier: 277\n",
      "max_depth: 511\n",
      "cost_total: 512.0\n",
      "Usage memorie peak: 2.63 [MB]\n",
      "Execution Time: 1.4995977878570557\n"
     ]
    },
    {
     "data": {
      "image/png": "[encoded data removed]",
      "text/plain": [
       "<Figure size 640x480 with 2 Axes>"
      ]
     },
     "metadata": {},
     "output_type": "display_data"
    }
   ],
   "source": [
    "import tracemalloc\n",
    "import time\n",
    "import math as m\n",
    "import matplotlib.pyplot as plt\n",
    "\n",
    "runs = 3\n",
    "number_disks_max=10\n",
    "nodes_explored = []\n",
    "memory_reg = []\n",
    "exec_times= []\n",
    "for i in range(number_disks_max):\n",
    "    tracemalloc.start()\n",
    "    inicio = time.time()\n",
    "    \n",
    "    solution, metrics = A_search(i)\n",
    "    \n",
    "    fin=time.time()\n",
    "    \n",
    "    # Para medir memoria consumida usamos el pico de memoria\n",
    "    _, memory_peak = tracemalloc.get_traced_memory()\n",
    "    memory_peak /= 1024*1024\n",
    "    tracemalloc.stop()\n",
    "    print(f\"======{i+1}=====\")\n",
    "    for key, value in metrics.items():\n",
    "        print(f\"{key}: {value}\")\n",
    "    \"\"\"for nodos in solution.path():\n",
    "        print(nodos)\n",
    "    for act in solution.solution():\n",
    "        print(act)\"\"\"\n",
    "    nodes_explored.append(metrics[\"nodes_explored\"])\n",
    "    print(f\"Usage memorie peak: {round(memory_peak, 2)} [MB]\", )\n",
    "    print(f\"Execution Time: {fin-inicio}\")\n",
    "    exec_times.append(fin-inicio)\n",
    "    memory_reg.append(round(memory_peak, 2))\n",
    "    \n",
    "fig, (ax1, ax2) = plt.subplots(2, 1, sharex=True)\n",
    "ax1.stem(range(1,number_disks_max+1), exec_times)\n",
    "#complexity_time_teorical = [m.pow(exec_times[9],0.1)**i for i in range(1,number_disks_max+1)]\n",
    "#ax1.plot(range(1,number_disks_max+1), complexity_time_teorical)\n",
    "ax1.set_title('Complexity Time')\n",
    "ax1.set_ylabel('Execution Time [seconds]')\n",
    "ax1.set_xlabel('Disks [units]')\n",
    "\n",
    "ax2.stem(range(1,number_disks_max+1), memory_reg)\n",
    "ax2.set_title('Complexity Memory')\n",
    "ax2.set_ylabel('Memory [MB]')\n",
    "ax2.set_xlabel('Disks [units]')\n",
    "\n",
    "plt.tight_layout()\n",
    "plt.show()"
   ]
  },
  {
   "cell_type": "markdown",
   "id": "76fd11b9",
   "metadata": {},
   "source": [
    "6. A nivel implementación, ¿qué tiempo y memoria ocupa el algoritmo? (Se recomienda correr 10 veces y calcular \n",
    "promedio y desvío estándar de las métricas)."
   ]
  },
  {
   "cell_type": "code",
   "execution_count": 137,
   "id": "768cc0a3-c2d8-46a0-8008-8648e2858d0e",
   "metadata": {},
   "outputs": [
    {
     "name": "stdout",
     "output_type": "stream",
     "text": [
      "======1=====\n",
      "solution_found: True\n",
      "nodes_explored: 38\n",
      "states_visited: 35\n",
      "nodes_in_frontier: 31\n",
      "max_depth: 31\n",
      "cost_total: 32.0\n",
      "Usage memorie peak: 0.08 [MB]\n",
      "Execution Time: 0.04100298881530762\n",
      "======2=====\n",
      "solution_found: True\n",
      "nodes_explored: 38\n",
      "states_visited: 35\n",
      "nodes_in_frontier: 31\n",
      "max_depth: 31\n",
      "cost_total: 32.0\n",
      "Usage memorie peak: 0.07 [MB]\n",
      "Execution Time: 0.03508400917053223\n",
      "======3=====\n",
      "solution_found: True\n",
      "nodes_explored: 38\n",
      "states_visited: 35\n",
      "nodes_in_frontier: 31\n",
      "max_depth: 31\n",
      "cost_total: 32.0\n",
      "Usage memorie peak: 0.21 [MB]\n",
      "Execution Time: 0.03301715850830078\n",
      "======4=====\n",
      "solution_found: True\n",
      "nodes_explored: 38\n",
      "states_visited: 35\n",
      "nodes_in_frontier: 31\n",
      "max_depth: 31\n",
      "cost_total: 32.0\n",
      "Usage memorie peak: 0.07 [MB]\n",
      "Execution Time: 0.03200507164001465\n",
      "======5=====\n",
      "solution_found: True\n",
      "nodes_explored: 38\n",
      "states_visited: 35\n",
      "nodes_in_frontier: 31\n",
      "max_depth: 31\n",
      "cost_total: 32.0\n",
      "Usage memorie peak: 0.07 [MB]\n",
      "Execution Time: 0.03170132637023926\n",
      "======6=====\n",
      "solution_found: True\n",
      "nodes_explored: 38\n",
      "states_visited: 35\n",
      "nodes_in_frontier: 31\n",
      "max_depth: 31\n",
      "cost_total: 32.0\n",
      "Usage memorie peak: 0.07 [MB]\n",
      "Execution Time: 0.03191089630126953\n",
      "======7=====\n",
      "solution_found: True\n",
      "nodes_explored: 38\n",
      "states_visited: 35\n",
      "nodes_in_frontier: 31\n",
      "max_depth: 31\n",
      "cost_total: 32.0\n",
      "Usage memorie peak: 0.07 [MB]\n",
      "Execution Time: 0.03404593467712402\n",
      "======8=====\n",
      "solution_found: True\n",
      "nodes_explored: 38\n",
      "states_visited: 35\n",
      "nodes_in_frontier: 31\n",
      "max_depth: 31\n",
      "cost_total: 32.0\n",
      "Usage memorie peak: 0.07 [MB]\n",
      "Execution Time: 0.03301119804382324\n",
      "======9=====\n",
      "solution_found: True\n",
      "nodes_explored: 38\n",
      "states_visited: 35\n",
      "nodes_in_frontier: 31\n",
      "max_depth: 31\n",
      "cost_total: 32.0\n",
      "Usage memorie peak: 0.07 [MB]\n",
      "Execution Time: 0.032012224197387695\n",
      "======10=====\n",
      "solution_found: True\n",
      "nodes_explored: 38\n",
      "states_visited: 35\n",
      "nodes_in_frontier: 31\n",
      "max_depth: 31\n",
      "cost_total: 32.0\n",
      "Usage memorie peak: 0.21 [MB]\n",
      "Execution Time: 0.033895254135131836\n"
     ]
    }
   ],
   "source": [
    "import tracemalloc\n",
    "import time\n",
    "from queue import PriorityQueue\n",
    "runs = 10\n",
    "number_disks=5\n",
    "nodes_explored = []\n",
    "memory_reg = []\n",
    "exec_times= []\n",
    "for i in range(runs):\n",
    "    tracemalloc.start()\n",
    "    inicio = time.time()\n",
    "    \n",
    "    solution, metrics = A_search(number_disks)\n",
    "    \n",
    "    fin=time.time()\n",
    "    \n",
    "    # Para medir memoria consumida usamos el pico de memoria\n",
    "    _, memory_peak = tracemalloc.get_traced_memory()\n",
    "    memory_peak /= 1024*1024\n",
    "    tracemalloc.stop()\n",
    "    print(f\"======{i+1}=====\")\n",
    "    for key, value in metrics.items():\n",
    "        print(f\"{key}: {value}\")\n",
    "    \"\"\"for nodos in solution.path():\n",
    "        print(nodos)\n",
    "    for act in solution.solution():\n",
    "        print(act)\"\"\"\n",
    "    nodes_explored.append(metrics[\"nodes_explored\"])\n",
    "    print(f\"Usage memorie peak: {round(memory_peak, 2)} [MB]\", )\n",
    "    print(f\"Execution Time: {fin-inicio}\")\n",
    "    exec_times.append(fin-inicio)\n",
    "    memory_reg.append(round(memory_peak, 2))"
   ]
  },
  {
   "cell_type": "code",
   "execution_count": 138,
   "id": "43657735-9e67-4931-a4fc-11db96b5735a",
   "metadata": {},
   "outputs": [
    {
     "name": "stdout",
     "output_type": "stream",
     "text": [
      "Tiempo promedio: 0.0338 s\n",
      "Desviacion estandar de tiempo: 0.0028 s\n",
      "Memoria promedio: 0.1[MB]\n",
      "Desviacion estandar de memoria: 0.06[MB]\n"
     ]
    }
   ],
   "source": [
    "import statistics\n",
    "#print(exec_times)\n",
    "#print(memory_reg)\n",
    "print(f\"Tiempo promedio: {round(statistics.mean(exec_times), 4)} s\")\n",
    "print(f\"Desviacion estandar de tiempo: {round(statistics.stdev(exec_times), 4)} s\")\n",
    "print(f\"Memoria promedio: {round(statistics.mean(memory_reg), 2)}[MB]\")\n",
    "print(f\"Desviacion estandar de memoria: {round(statistics.stdev(memory_reg), 2)}[MB]\")"
   ]
  },
  {
   "cell_type": "code",
   "execution_count": 139,
   "id": "5a233915",
   "metadata": {},
   "outputs": [
    {
     "name": "stdout",
     "output_type": "stream",
     "text": [
      "Move disk 1 from 1 to 3\n",
      "Move disk 2 from 1 to 2\n",
      "Move disk 1 from 3 to 2\n",
      "Move disk 3 from 1 to 3\n",
      "Move disk 1 from 2 to 1\n",
      "Move disk 2 from 2 to 3\n",
      "Move disk 1 from 1 to 3\n",
      "Move disk 4 from 1 to 2\n",
      "Move disk 1 from 3 to 2\n",
      "Move disk 2 from 3 to 1\n",
      "Move disk 1 from 2 to 1\n",
      "Move disk 3 from 3 to 2\n",
      "Move disk 1 from 1 to 3\n",
      "Move disk 2 from 1 to 2\n",
      "Move disk 1 from 3 to 2\n",
      "Move disk 5 from 1 to 3\n",
      "Move disk 1 from 2 to 1\n",
      "Move disk 2 from 2 to 3\n",
      "Move disk 1 from 1 to 3\n",
      "Move disk 3 from 2 to 1\n",
      "Move disk 1 from 3 to 2\n",
      "Move disk 2 from 3 to 1\n",
      "Move disk 1 from 2 to 1\n",
      "Move disk 4 from 2 to 3\n",
      "Move disk 1 from 1 to 3\n",
      "Move disk 2 from 1 to 2\n",
      "Move disk 1 from 3 to 2\n",
      "Move disk 3 from 1 to 3\n",
      "Move disk 1 from 2 to 1\n",
      "Move disk 2 from 2 to 3\n",
      "Move disk 1 from 1 to 3\n"
     ]
    }
   ],
   "source": [
    "for act in solution.solution():\n",
    "    print(act)"
   ]
  },
  {
   "cell_type": "markdown",
   "id": "8a18188a",
   "metadata": {},
   "source": [
    "7. Si la solución óptima es $2^k - 1$ movimientos con *k* igual al número de discos. Qué tan lejos está la solución \n",
    "del algoritmo implementado de esta solución óptima (se recomienda correr al menos 10 veces y usar el promedio de \n",
    "trayecto usado)."
   ]
  },
  {
   "cell_type": "code",
   "execution_count": 140,
   "id": "f510d9ad",
   "metadata": {},
   "outputs": [
    {
     "name": "stdout",
     "output_type": "stream",
     "text": [
      "Eficiencia del Algoritmo: 81.5789 %\n"
     ]
    }
   ],
   "source": [
    "print(f\"Eficiencia del Algoritmo: {round(100*(2**number_disks-1)/statistics.mean(nodes_explored),4)} %\")"
   ]
  },
  {
   "cell_type": "markdown",
   "id": "3934088b",
   "metadata": {},
   "source": [
    "Para utilizar en simulador"
   ]
  },
  {
   "cell_type": "markdown",
   "id": "32deebf6-2ab1-4573-9aaf-9add84c2939f",
   "metadata": {},
   "source": [
    "Ahora ejecutemos el método que nos genera los archivos para el visualizador:"
   ]
  },
  {
   "cell_type": "code",
   "execution_count": 141,
   "id": "16b4749a-9b5c-4317-996e-eca604d5f748",
   "metadata": {},
   "outputs": [],
   "source": [
    "solution.generate_solution_for_simulator()"
   ]
  },
  {
   "cell_type": "markdown",
   "id": "f32094d1-71da-48c6-b27a-86510b161d88",
   "metadata": {},
   "source": [
    "El método no retorna nada, pero en donde ejecutamos esta notebook se guardaron los dos archivos.\n",
    "\n",
    "![files](./img/files.png)\n",
    "\n",
    "Esos `JSONs` los movemos a la carpeta `simulator` y desde esa carpeta podemos ejecutar:\n",
    "\n",
    "\n",
    "```bash\n",
    "\n",
    "conda init powershell #en el powershell para poder utilizar los comandos de conda y poder cambiar de enviroment\n",
    "\n",
    "(base) conda info --envs  #para ver los entornos disponibles\n",
    "\n",
    "# conda environments:\n",
    "#\n",
    "                       C:\\Users\\mpaur\\anaconda3\n",
    "                       C:\\Users\\mpaur\\anaconda3\\envs\\EntornoIA\n",
    "base                 * C:\\Users\\mpaur\\miniconda3\n",
    "\n",
    "\n",
    "(base)conda activate C:\\Users\\mpaur\\anaconda3\\envs\\EntornoIA\n",
    "\n",
    "(EntornoIA) python ./simulation_hanoi.py\n",
    "\n",
    "```\n",
    "\n",
    "Para poder visualizar la solución encontrada."
   ]
  },
  {
   "cell_type": "code",
   "execution_count": 142,
   "id": "907d0614",
   "metadata": {},
   "outputs": [
    {
     "name": "stdout",
     "output_type": "stream",
     "text": [
      "pygame 2.6.1 (SDL 2.32.50, Python 3.11.11)\n",
      "Hello from the pygame community. https://www.pygame.org/contribute.html\n"
     ]
    },
    {
     "name": "stderr",
     "output_type": "stream",
     "text": [
      "<frozen importlib._bootstrap>:241: RuntimeWarning: Your system is avx2 capable but pygame was not built with support for it. The performance of some of your blits could be adversely affected. Consider enabling compile time detection with environment variables like PYGAME_DETECT_AVX2=1 if you are compiling without cross compilation.\n"
     ]
    }
   ],
   "source": [
    "!python ./simulator/simulation_hanoi.py"
   ]
  }
 ],
 "metadata": {
  "kernelspec": {
   "display_name": "Python 3",
   "language": "python",
   "name": "python3"
  },
  "language_info": {
   "codemirror_mode": {
    "name": "ipython",
    "version": 3
   },
   "file_extension": ".py",
   "mimetype": "text/x-python",
   "name": "python",
   "nbconvert_exporter": "python",
   "pygments_lexer": "ipython3",
   "version": "3.11.11"
  }
 },
 "nbformat": 4,
 "nbformat_minor": 5
}
